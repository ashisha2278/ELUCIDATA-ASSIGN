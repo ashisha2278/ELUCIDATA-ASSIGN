{
  "nbformat": 4,
  "nbformat_minor": 0,
  "metadata": {
    "kernelspec": {
      "display_name": "Python 3",
      "language": "python",
      "name": "python3"
    },
    "language_info": {
      "codemirror_mode": {
        "name": "ipython",
        "version": 3
      },
      "file_extension": ".py",
      "mimetype": "text/x-python",
      "name": "python",
      "nbconvert_exporter": "python",
      "pygments_lexer": "ipython3",
      "version": "3.6.5"
    },
    "colab": {
      "name": "Assignment data gct.ipynb",
      "provenance": [],
      "collapsed_sections": []
    }
  },
  "cells": [
    {
      "cell_type": "code",
      "metadata": {
        "id": "TJAvuFx4YF8I",
        "colab_type": "code",
        "outputId": "f5655987-3ad5-43f0-95fc-89959d63cc96",
        "colab": {}
      },
      "source": [
        "!pip install cmapPy"
      ],
      "execution_count": 0,
      "outputs": [
        {
          "output_type": "stream",
          "text": [
            "Collecting cmapPy\n",
            "  Downloading https://files.pythonhosted.org/packages/e8/e1/9e90b0dc2051f4a3a2b9553b254889e93a2a3c7a3b925433c6298d99d596/cmapPy-4.0.1-py2.py3-none-any.whl (150kB)\n",
            "Requirement already satisfied: pandas>=0.18 in c:\\programdata\\anaconda\\lib\\site-packages (from cmapPy) (0.23.0)\n",
            "Requirement already satisfied: six in c:\\programdata\\anaconda\\lib\\site-packages (from cmapPy) (1.11.0)\n",
            "Requirement already satisfied: h5py>=2.6.0 in c:\\programdata\\anaconda\\lib\\site-packages (from cmapPy) (2.7.1)\n",
            "Requirement already satisfied: numpy>=1.11.2 in c:\\programdata\\anaconda\\lib\\site-packages (from cmapPy) (1.16.2)\n",
            "Requirement already satisfied: requests>=2.13.0 in c:\\programdata\\anaconda\\lib\\site-packages (from cmapPy) (2.18.4)\n",
            "Requirement already satisfied: pytz>=2011k in c:\\programdata\\anaconda\\lib\\site-packages (from pandas>=0.18->cmapPy) (2018.4)\n",
            "Requirement already satisfied: python-dateutil>=2.5.0 in c:\\programdata\\anaconda\\lib\\site-packages (from pandas>=0.18->cmapPy) (2.7.3)\n",
            "Requirement already satisfied: chardet<3.1.0,>=3.0.2 in c:\\programdata\\anaconda\\lib\\site-packages (from requests>=2.13.0->cmapPy) (3.0.4)\n",
            "Requirement already satisfied: idna<2.7,>=2.5 in c:\\programdata\\anaconda\\lib\\site-packages (from requests>=2.13.0->cmapPy) (2.6)\n",
            "Requirement already satisfied: urllib3<1.23,>=1.21.1 in c:\\programdata\\anaconda\\lib\\site-packages (from requests>=2.13.0->cmapPy) (1.22)\n",
            "Requirement already satisfied: certifi>=2017.4.17 in c:\\programdata\\anaconda\\lib\\site-packages (from requests>=2.13.0->cmapPy) (2018.4.16)\n",
            "Installing collected packages: cmapPy\n",
            "Successfully installed cmapPy-4.0.1\n"
          ],
          "name": "stdout"
        },
        {
          "output_type": "stream",
          "text": [
            "You are using pip version 19.0.3, however version 20.0.2 is available.\n",
            "You should consider upgrading via the 'python -m pip install --upgrade pip' command.\n"
          ],
          "name": "stderr"
        }
      ]
    },
    {
      "cell_type": "code",
      "metadata": {
        "id": "l1QbzDyCYF8P",
        "colab_type": "code",
        "colab": {}
      },
      "source": [
        "import cmapPy"
      ],
      "execution_count": 0,
      "outputs": []
    },
    {
      "cell_type": "code",
      "metadata": {
        "id": "xt_6HRKDYF8S",
        "colab_type": "code",
        "outputId": "0f2df611-8374-4511-f593-bd19656bd7f5",
        "colab": {}
      },
      "source": [
        "from cmapPy.pandasGEXpress import parse"
      ],
      "execution_count": 0,
      "outputs": [
        {
          "output_type": "stream",
          "text": [
            "C:\\ProgramData\\Anaconda\\lib\\site-packages\\h5py\\__init__.py:36: FutureWarning: Conversion of the second argument of issubdtype from `float` to `np.floating` is deprecated. In future, it will be treated as `np.float64 == np.dtype(float).type`.\n",
            "  from ._conv import register_converters as _register_converters\n"
          ],
          "name": "stderr"
        }
      ]
    },
    {
      "cell_type": "code",
      "metadata": {
        "id": "wJ8GH8uKYF8W",
        "colab_type": "code",
        "colab": {}
      },
      "source": [
        "file =  parse.parse('PAAD.gct')"
      ],
      "execution_count": 0,
      "outputs": []
    },
    {
      "cell_type": "code",
      "metadata": {
        "id": "3aLF3ZcnYF8Z",
        "colab_type": "code",
        "colab": {}
      },
      "source": [
        "import pandas as pd\n",
        "data = pd.DataFrame(file.data_df)"
      ],
      "execution_count": 0,
      "outputs": []
    },
    {
      "cell_type": "code",
      "metadata": {
        "id": "HkKkBZI5YF8f",
        "colab_type": "code",
        "outputId": "560d1739-fecf-47f4-984c-6efdd535e19e",
        "colab": {}
      },
      "source": [
        "data.head()"
      ],
      "execution_count": 0,
      "outputs": [
        {
          "output_type": "execute_result",
          "data": {
            "text/html": [
              "<div>\n",
              "<style scoped>\n",
              "    .dataframe tbody tr th:only-of-type {\n",
              "        vertical-align: middle;\n",
              "    }\n",
              "\n",
              "    .dataframe tbody tr th {\n",
              "        vertical-align: top;\n",
              "    }\n",
              "\n",
              "    .dataframe thead th {\n",
              "        text-align: right;\n",
              "    }\n",
              "</style>\n",
              "<table border=\"1\" class=\"dataframe\">\n",
              "  <thead>\n",
              "    <tr style=\"text-align: right;\">\n",
              "      <th>cid</th>\n",
              "      <th>aab1-Primary solid Tumor</th>\n",
              "      <th>aab4-Primary solid Tumor</th>\n",
              "      <th>aab6-Primary solid Tumor</th>\n",
              "      <th>aab8-Primary solid Tumor</th>\n",
              "      <th>aab9-Primary solid Tumor</th>\n",
              "      <th>aaba-Primary solid Tumor</th>\n",
              "      <th>aabe-Primary solid Tumor</th>\n",
              "      <th>aabf-Primary solid Tumor</th>\n",
              "      <th>aabh-Primary solid Tumor</th>\n",
              "      <th>aabi-Primary solid Tumor</th>\n",
              "      <th>...</th>\n",
              "      <th>aauh-Primary solid Tumor</th>\n",
              "      <th>aaui-Primary solid Tumor</th>\n",
              "      <th>aaul-Primary solid Tumor</th>\n",
              "      <th>a8t3-Primary solid Tumor</th>\n",
              "      <th>a8t5-Primary solid Tumor</th>\n",
              "      <th>a89d-Solid Tissue Normal</th>\n",
              "      <th>a89d-Primary solid Tumor</th>\n",
              "      <th>a8sy-Primary solid Tumor</th>\n",
              "      <th>a8lh-Primary solid Tumor</th>\n",
              "      <th>aapl-Primary solid Tumor</th>\n",
              "    </tr>\n",
              "    <tr>\n",
              "      <th>rid</th>\n",
              "      <th></th>\n",
              "      <th></th>\n",
              "      <th></th>\n",
              "      <th></th>\n",
              "      <th></th>\n",
              "      <th></th>\n",
              "      <th></th>\n",
              "      <th></th>\n",
              "      <th></th>\n",
              "      <th></th>\n",
              "      <th></th>\n",
              "      <th></th>\n",
              "      <th></th>\n",
              "      <th></th>\n",
              "      <th></th>\n",
              "      <th></th>\n",
              "      <th></th>\n",
              "      <th></th>\n",
              "      <th></th>\n",
              "      <th></th>\n",
              "      <th></th>\n",
              "    </tr>\n",
              "  </thead>\n",
              "  <tbody>\n",
              "    <tr>\n",
              "      <th>SLC35E2</th>\n",
              "      <td>7.45</td>\n",
              "      <td>8.1</td>\n",
              "      <td>7.2</td>\n",
              "      <td>8.0</td>\n",
              "      <td>7.65</td>\n",
              "      <td>8.1</td>\n",
              "      <td>8.2</td>\n",
              "      <td>8.2</td>\n",
              "      <td>7.55</td>\n",
              "      <td>8.45</td>\n",
              "      <td>...</td>\n",
              "      <td>8.45</td>\n",
              "      <td>7.95</td>\n",
              "      <td>8.3</td>\n",
              "      <td>8.05</td>\n",
              "      <td>8.2</td>\n",
              "      <td>7.25</td>\n",
              "      <td>7.4</td>\n",
              "      <td>7.35</td>\n",
              "      <td>7.2</td>\n",
              "      <td>9.05</td>\n",
              "    </tr>\n",
              "    <tr>\n",
              "      <th>A1BG</th>\n",
              "      <td>6.40</td>\n",
              "      <td>5.8</td>\n",
              "      <td>6.4</td>\n",
              "      <td>5.8</td>\n",
              "      <td>6.70</td>\n",
              "      <td>6.6</td>\n",
              "      <td>6.3</td>\n",
              "      <td>6.5</td>\n",
              "      <td>5.70</td>\n",
              "      <td>6.30</td>\n",
              "      <td>...</td>\n",
              "      <td>7.10</td>\n",
              "      <td>7.10</td>\n",
              "      <td>6.7</td>\n",
              "      <td>7.00</td>\n",
              "      <td>6.9</td>\n",
              "      <td>7.10</td>\n",
              "      <td>7.3</td>\n",
              "      <td>7.90</td>\n",
              "      <td>6.0</td>\n",
              "      <td>6.90</td>\n",
              "    </tr>\n",
              "    <tr>\n",
              "      <th>A1CF</th>\n",
              "      <td>4.70</td>\n",
              "      <td>5.7</td>\n",
              "      <td>3.0</td>\n",
              "      <td>5.1</td>\n",
              "      <td>4.40</td>\n",
              "      <td>4.2</td>\n",
              "      <td>1.6</td>\n",
              "      <td>6.8</td>\n",
              "      <td>6.00</td>\n",
              "      <td>NaN</td>\n",
              "      <td>...</td>\n",
              "      <td>5.40</td>\n",
              "      <td>6.40</td>\n",
              "      <td>6.5</td>\n",
              "      <td>4.40</td>\n",
              "      <td>3.3</td>\n",
              "      <td>3.60</td>\n",
              "      <td>6.2</td>\n",
              "      <td>1.20</td>\n",
              "      <td>4.9</td>\n",
              "      <td>2.00</td>\n",
              "    </tr>\n",
              "    <tr>\n",
              "      <th>A2BP1</th>\n",
              "      <td>-1.00</td>\n",
              "      <td>1.1</td>\n",
              "      <td>NaN</td>\n",
              "      <td>NaN</td>\n",
              "      <td>0.10</td>\n",
              "      <td>NaN</td>\n",
              "      <td>NaN</td>\n",
              "      <td>1.7</td>\n",
              "      <td>0.40</td>\n",
              "      <td>-1.50</td>\n",
              "      <td>...</td>\n",
              "      <td>3.50</td>\n",
              "      <td>1.30</td>\n",
              "      <td>-0.3</td>\n",
              "      <td>NaN</td>\n",
              "      <td>2.1</td>\n",
              "      <td>2.00</td>\n",
              "      <td>0.0</td>\n",
              "      <td>NaN</td>\n",
              "      <td>2.0</td>\n",
              "      <td>NaN</td>\n",
              "    </tr>\n",
              "    <tr>\n",
              "      <th>A2LD1</th>\n",
              "      <td>7.50</td>\n",
              "      <td>6.8</td>\n",
              "      <td>7.3</td>\n",
              "      <td>7.5</td>\n",
              "      <td>7.40</td>\n",
              "      <td>6.6</td>\n",
              "      <td>7.1</td>\n",
              "      <td>6.8</td>\n",
              "      <td>8.00</td>\n",
              "      <td>5.80</td>\n",
              "      <td>...</td>\n",
              "      <td>6.50</td>\n",
              "      <td>7.30</td>\n",
              "      <td>6.1</td>\n",
              "      <td>6.70</td>\n",
              "      <td>6.5</td>\n",
              "      <td>6.70</td>\n",
              "      <td>6.7</td>\n",
              "      <td>6.50</td>\n",
              "      <td>6.9</td>\n",
              "      <td>6.70</td>\n",
              "    </tr>\n",
              "  </tbody>\n",
              "</table>\n",
              "<p>5 rows × 183 columns</p>\n",
              "</div>"
            ],
            "text/plain": [
              "cid      aab1-Primary solid Tumor  aab4-Primary solid Tumor  \\\n",
              "rid                                                           \n",
              "SLC35E2                      7.45                       8.1   \n",
              "A1BG                         6.40                       5.8   \n",
              "A1CF                         4.70                       5.7   \n",
              "A2BP1                       -1.00                       1.1   \n",
              "A2LD1                        7.50                       6.8   \n",
              "\n",
              "cid      aab6-Primary solid Tumor  aab8-Primary solid Tumor  \\\n",
              "rid                                                           \n",
              "SLC35E2                       7.2                       8.0   \n",
              "A1BG                          6.4                       5.8   \n",
              "A1CF                          3.0                       5.1   \n",
              "A2BP1                         NaN                       NaN   \n",
              "A2LD1                         7.3                       7.5   \n",
              "\n",
              "cid      aab9-Primary solid Tumor  aaba-Primary solid Tumor  \\\n",
              "rid                                                           \n",
              "SLC35E2                      7.65                       8.1   \n",
              "A1BG                         6.70                       6.6   \n",
              "A1CF                         4.40                       4.2   \n",
              "A2BP1                        0.10                       NaN   \n",
              "A2LD1                        7.40                       6.6   \n",
              "\n",
              "cid      aabe-Primary solid Tumor  aabf-Primary solid Tumor  \\\n",
              "rid                                                           \n",
              "SLC35E2                       8.2                       8.2   \n",
              "A1BG                          6.3                       6.5   \n",
              "A1CF                          1.6                       6.8   \n",
              "A2BP1                         NaN                       1.7   \n",
              "A2LD1                         7.1                       6.8   \n",
              "\n",
              "cid      aabh-Primary solid Tumor  aabi-Primary solid Tumor  \\\n",
              "rid                                                           \n",
              "SLC35E2                      7.55                      8.45   \n",
              "A1BG                         5.70                      6.30   \n",
              "A1CF                         6.00                       NaN   \n",
              "A2BP1                        0.40                     -1.50   \n",
              "A2LD1                        8.00                      5.80   \n",
              "\n",
              "cid                ...             aauh-Primary solid Tumor  \\\n",
              "rid                ...                                        \n",
              "SLC35E2            ...                                 8.45   \n",
              "A1BG               ...                                 7.10   \n",
              "A1CF               ...                                 5.40   \n",
              "A2BP1              ...                                 3.50   \n",
              "A2LD1              ...                                 6.50   \n",
              "\n",
              "cid      aaui-Primary solid Tumor  aaul-Primary solid Tumor  \\\n",
              "rid                                                           \n",
              "SLC35E2                      7.95                       8.3   \n",
              "A1BG                         7.10                       6.7   \n",
              "A1CF                         6.40                       6.5   \n",
              "A2BP1                        1.30                      -0.3   \n",
              "A2LD1                        7.30                       6.1   \n",
              "\n",
              "cid      a8t3-Primary solid Tumor  a8t5-Primary solid Tumor  \\\n",
              "rid                                                           \n",
              "SLC35E2                      8.05                       8.2   \n",
              "A1BG                         7.00                       6.9   \n",
              "A1CF                         4.40                       3.3   \n",
              "A2BP1                         NaN                       2.1   \n",
              "A2LD1                        6.70                       6.5   \n",
              "\n",
              "cid      a89d-Solid Tissue Normal  a89d-Primary solid Tumor  \\\n",
              "rid                                                           \n",
              "SLC35E2                      7.25                       7.4   \n",
              "A1BG                         7.10                       7.3   \n",
              "A1CF                         3.60                       6.2   \n",
              "A2BP1                        2.00                       0.0   \n",
              "A2LD1                        6.70                       6.7   \n",
              "\n",
              "cid      a8sy-Primary solid Tumor  a8lh-Primary solid Tumor  \\\n",
              "rid                                                           \n",
              "SLC35E2                      7.35                       7.2   \n",
              "A1BG                         7.90                       6.0   \n",
              "A1CF                         1.20                       4.9   \n",
              "A2BP1                         NaN                       2.0   \n",
              "A2LD1                        6.50                       6.9   \n",
              "\n",
              "cid      aapl-Primary solid Tumor  \n",
              "rid                                \n",
              "SLC35E2                      9.05  \n",
              "A1BG                         6.90  \n",
              "A1CF                         2.00  \n",
              "A2BP1                         NaN  \n",
              "A2LD1                        6.70  \n",
              "\n",
              "[5 rows x 183 columns]"
            ]
          },
          "metadata": {
            "tags": []
          },
          "execution_count": 46
        }
      ]
    },
    {
      "cell_type": "code",
      "metadata": {
        "id": "Q3RNDZHHYF8i",
        "colab_type": "code",
        "outputId": "8289f8a7-1fd6-485a-f54b-455a3cb3132d",
        "colab": {}
      },
      "source": [
        "print(\"NAN in each Column:\")\n",
        "data.isnull().sum()"
      ],
      "execution_count": 0,
      "outputs": [
        {
          "output_type": "stream",
          "text": [
            "NAN in each Column:\n"
          ],
          "name": "stdout"
        },
        {
          "output_type": "execute_result",
          "data": {
            "text/plain": [
              "cid\n",
              "aab1-Primary solid Tumor     645\n",
              "aab4-Primary solid Tumor     532\n",
              "aab6-Primary solid Tumor     983\n",
              "aab8-Primary solid Tumor    1014\n",
              "aab9-Primary solid Tumor     961\n",
              "aaba-Primary solid Tumor     794\n",
              "aabe-Primary solid Tumor     757\n",
              "aabf-Primary solid Tumor     323\n",
              "aabh-Primary solid Tumor     583\n",
              "aabi-Primary solid Tumor     803\n",
              "aabk-Primary solid Tumor     408\n",
              "aabo-Primary solid Tumor     791\n",
              "aabp-Primary solid Tumor    1173\n",
              "aabr-Primary solid Tumor     596\n",
              "aabt-Primary solid Tumor     831\n",
              "aabu-Primary solid Tumor    1226\n",
              "aabv-Primary solid Tumor    1378\n",
              "aaqa-Primary solid Tumor     728\n",
              "aaqe-Primary solid Tumor     781\n",
              "aaqi-Primary solid Tumor     571\n",
              "aaqj-Primary solid Tumor     799\n",
              "aaql-Primary solid Tumor     760\n",
              "aaqm-Primary solid Tumor    1116\n",
              "a9i5-Primary solid Tumor     747\n",
              "a9i7-Primary solid Tumor     442\n",
              "a9i9-Primary solid Tumor     569\n",
              "a9ib-Primary solid Tumor     590\n",
              "a9ic-Primary solid Tumor     727\n",
              "a9ih-Primary solid Tumor     506\n",
              "a9ij-Primary solid Tumor    1233\n",
              "                            ... \n",
              "a8f3-Primary solid Tumor     842\n",
              "a9q5-Primary solid Tumor     902\n",
              "a5n4-Primary solid Tumor    1163\n",
              "a75w-Primary solid Tumor     846\n",
              "a5re-Primary solid Tumor     657\n",
              "a5qy-Primary solid Tumor     648\n",
              "aa2a-Primary solid Tumor    1025\n",
              "a7b8-Primary solid Tumor     677\n",
              "aa9m-Primary solid Tumor     477\n",
              "aaas-Primary solid Tumor     650\n",
              "a8rm-Primary solid Tumor     683\n",
              "a8ro-Primary solid Tumor     710\n",
              "a8rp-Primary solid Tumor     467\n",
              "a774-Primary solid Tumor     506\n",
              "a776-Primary solid Tumor    1090\n",
              "a779-Primary solid Tumor     751\n",
              "a77e-Primary solid Tumor     703\n",
              "a77g-Primary solid Tumor     710\n",
              "a77j-Primary solid Tumor     643\n",
              "aaug-Primary solid Tumor     607\n",
              "aauh-Primary solid Tumor     687\n",
              "aaui-Primary solid Tumor     457\n",
              "aaul-Primary solid Tumor     620\n",
              "a8t3-Primary solid Tumor     579\n",
              "a8t5-Primary solid Tumor     626\n",
              "a89d-Solid Tissue Normal     581\n",
              "a89d-Primary solid Tumor     593\n",
              "a8sy-Primary solid Tumor     829\n",
              "a8lh-Primary solid Tumor     699\n",
              "aapl-Primary solid Tumor     934\n",
              "Length: 183, dtype: int64"
            ]
          },
          "metadata": {
            "tags": []
          },
          "execution_count": 47
        }
      ]
    },
    {
      "cell_type": "code",
      "metadata": {
        "id": "rAYLFn0AYF8m",
        "colab_type": "code",
        "outputId": "9d3ead75-700a-4e2b-bdbc-a5539583d2f9",
        "colab": {}
      },
      "source": [
        "print(\"Number of NAN in Entire File:\",sum(data.isnull().sum().values))"
      ],
      "execution_count": 0,
      "outputs": [
        {
          "output_type": "stream",
          "text": [
            "Number of NAN in Entire File: 134954\n"
          ],
          "name": "stdout"
        }
      ]
    },
    {
      "cell_type": "code",
      "metadata": {
        "id": "lydl1ztPYF8p",
        "colab_type": "code",
        "outputId": "8f392c22-608a-40ae-9a72-ccffc15c954f",
        "colab": {}
      },
      "source": [
        "data.shape"
      ],
      "execution_count": 0,
      "outputs": [
        {
          "output_type": "execute_result",
          "data": {
            "text/plain": [
              "(18465, 183)"
            ]
          },
          "metadata": {
            "tags": []
          },
          "execution_count": 49
        }
      ]
    },
    {
      "cell_type": "markdown",
      "metadata": {
        "id": "G3psY9DSYF8s",
        "colab_type": "text"
      },
      "source": [
        "### **FIling NAN using Mean**"
      ]
    },
    {
      "cell_type": "code",
      "metadata": {
        "id": "YKyat_EcYF8t",
        "colab_type": "code",
        "outputId": "bb84aee4-a539-407d-ee8a-25646e4b8104",
        "colab": {}
      },
      "source": [
        "print(\"Data Frame before filling NAN :\")\n",
        "data.head()"
      ],
      "execution_count": 0,
      "outputs": [
        {
          "output_type": "stream",
          "text": [
            "Data Frame before filling NAN :\n"
          ],
          "name": "stdout"
        },
        {
          "output_type": "execute_result",
          "data": {
            "text/html": [
              "<div>\n",
              "<style scoped>\n",
              "    .dataframe tbody tr th:only-of-type {\n",
              "        vertical-align: middle;\n",
              "    }\n",
              "\n",
              "    .dataframe tbody tr th {\n",
              "        vertical-align: top;\n",
              "    }\n",
              "\n",
              "    .dataframe thead th {\n",
              "        text-align: right;\n",
              "    }\n",
              "</style>\n",
              "<table border=\"1\" class=\"dataframe\">\n",
              "  <thead>\n",
              "    <tr style=\"text-align: right;\">\n",
              "      <th>cid</th>\n",
              "      <th>aab1-Primary solid Tumor</th>\n",
              "      <th>aab4-Primary solid Tumor</th>\n",
              "      <th>aab6-Primary solid Tumor</th>\n",
              "      <th>aab8-Primary solid Tumor</th>\n",
              "      <th>aab9-Primary solid Tumor</th>\n",
              "      <th>aaba-Primary solid Tumor</th>\n",
              "      <th>aabe-Primary solid Tumor</th>\n",
              "      <th>aabf-Primary solid Tumor</th>\n",
              "      <th>aabh-Primary solid Tumor</th>\n",
              "      <th>aabi-Primary solid Tumor</th>\n",
              "      <th>...</th>\n",
              "      <th>aauh-Primary solid Tumor</th>\n",
              "      <th>aaui-Primary solid Tumor</th>\n",
              "      <th>aaul-Primary solid Tumor</th>\n",
              "      <th>a8t3-Primary solid Tumor</th>\n",
              "      <th>a8t5-Primary solid Tumor</th>\n",
              "      <th>a89d-Solid Tissue Normal</th>\n",
              "      <th>a89d-Primary solid Tumor</th>\n",
              "      <th>a8sy-Primary solid Tumor</th>\n",
              "      <th>a8lh-Primary solid Tumor</th>\n",
              "      <th>aapl-Primary solid Tumor</th>\n",
              "    </tr>\n",
              "    <tr>\n",
              "      <th>rid</th>\n",
              "      <th></th>\n",
              "      <th></th>\n",
              "      <th></th>\n",
              "      <th></th>\n",
              "      <th></th>\n",
              "      <th></th>\n",
              "      <th></th>\n",
              "      <th></th>\n",
              "      <th></th>\n",
              "      <th></th>\n",
              "      <th></th>\n",
              "      <th></th>\n",
              "      <th></th>\n",
              "      <th></th>\n",
              "      <th></th>\n",
              "      <th></th>\n",
              "      <th></th>\n",
              "      <th></th>\n",
              "      <th></th>\n",
              "      <th></th>\n",
              "      <th></th>\n",
              "    </tr>\n",
              "  </thead>\n",
              "  <tbody>\n",
              "    <tr>\n",
              "      <th>SLC35E2</th>\n",
              "      <td>7.45</td>\n",
              "      <td>8.1</td>\n",
              "      <td>7.2</td>\n",
              "      <td>8.0</td>\n",
              "      <td>7.65</td>\n",
              "      <td>8.1</td>\n",
              "      <td>8.2</td>\n",
              "      <td>8.2</td>\n",
              "      <td>7.55</td>\n",
              "      <td>8.45</td>\n",
              "      <td>...</td>\n",
              "      <td>8.45</td>\n",
              "      <td>7.95</td>\n",
              "      <td>8.3</td>\n",
              "      <td>8.05</td>\n",
              "      <td>8.2</td>\n",
              "      <td>7.25</td>\n",
              "      <td>7.4</td>\n",
              "      <td>7.35</td>\n",
              "      <td>7.2</td>\n",
              "      <td>9.05</td>\n",
              "    </tr>\n",
              "    <tr>\n",
              "      <th>A1BG</th>\n",
              "      <td>6.40</td>\n",
              "      <td>5.8</td>\n",
              "      <td>6.4</td>\n",
              "      <td>5.8</td>\n",
              "      <td>6.70</td>\n",
              "      <td>6.6</td>\n",
              "      <td>6.3</td>\n",
              "      <td>6.5</td>\n",
              "      <td>5.70</td>\n",
              "      <td>6.30</td>\n",
              "      <td>...</td>\n",
              "      <td>7.10</td>\n",
              "      <td>7.10</td>\n",
              "      <td>6.7</td>\n",
              "      <td>7.00</td>\n",
              "      <td>6.9</td>\n",
              "      <td>7.10</td>\n",
              "      <td>7.3</td>\n",
              "      <td>7.90</td>\n",
              "      <td>6.0</td>\n",
              "      <td>6.90</td>\n",
              "    </tr>\n",
              "    <tr>\n",
              "      <th>A1CF</th>\n",
              "      <td>4.70</td>\n",
              "      <td>5.7</td>\n",
              "      <td>3.0</td>\n",
              "      <td>5.1</td>\n",
              "      <td>4.40</td>\n",
              "      <td>4.2</td>\n",
              "      <td>1.6</td>\n",
              "      <td>6.8</td>\n",
              "      <td>6.00</td>\n",
              "      <td>NaN</td>\n",
              "      <td>...</td>\n",
              "      <td>5.40</td>\n",
              "      <td>6.40</td>\n",
              "      <td>6.5</td>\n",
              "      <td>4.40</td>\n",
              "      <td>3.3</td>\n",
              "      <td>3.60</td>\n",
              "      <td>6.2</td>\n",
              "      <td>1.20</td>\n",
              "      <td>4.9</td>\n",
              "      <td>2.00</td>\n",
              "    </tr>\n",
              "    <tr>\n",
              "      <th>A2BP1</th>\n",
              "      <td>-1.00</td>\n",
              "      <td>1.1</td>\n",
              "      <td>NaN</td>\n",
              "      <td>NaN</td>\n",
              "      <td>0.10</td>\n",
              "      <td>NaN</td>\n",
              "      <td>NaN</td>\n",
              "      <td>1.7</td>\n",
              "      <td>0.40</td>\n",
              "      <td>-1.50</td>\n",
              "      <td>...</td>\n",
              "      <td>3.50</td>\n",
              "      <td>1.30</td>\n",
              "      <td>-0.3</td>\n",
              "      <td>NaN</td>\n",
              "      <td>2.1</td>\n",
              "      <td>2.00</td>\n",
              "      <td>0.0</td>\n",
              "      <td>NaN</td>\n",
              "      <td>2.0</td>\n",
              "      <td>NaN</td>\n",
              "    </tr>\n",
              "    <tr>\n",
              "      <th>A2LD1</th>\n",
              "      <td>7.50</td>\n",
              "      <td>6.8</td>\n",
              "      <td>7.3</td>\n",
              "      <td>7.5</td>\n",
              "      <td>7.40</td>\n",
              "      <td>6.6</td>\n",
              "      <td>7.1</td>\n",
              "      <td>6.8</td>\n",
              "      <td>8.00</td>\n",
              "      <td>5.80</td>\n",
              "      <td>...</td>\n",
              "      <td>6.50</td>\n",
              "      <td>7.30</td>\n",
              "      <td>6.1</td>\n",
              "      <td>6.70</td>\n",
              "      <td>6.5</td>\n",
              "      <td>6.70</td>\n",
              "      <td>6.7</td>\n",
              "      <td>6.50</td>\n",
              "      <td>6.9</td>\n",
              "      <td>6.70</td>\n",
              "    </tr>\n",
              "  </tbody>\n",
              "</table>\n",
              "<p>5 rows × 183 columns</p>\n",
              "</div>"
            ],
            "text/plain": [
              "cid      aab1-Primary solid Tumor  aab4-Primary solid Tumor  \\\n",
              "rid                                                           \n",
              "SLC35E2                      7.45                       8.1   \n",
              "A1BG                         6.40                       5.8   \n",
              "A1CF                         4.70                       5.7   \n",
              "A2BP1                       -1.00                       1.1   \n",
              "A2LD1                        7.50                       6.8   \n",
              "\n",
              "cid      aab6-Primary solid Tumor  aab8-Primary solid Tumor  \\\n",
              "rid                                                           \n",
              "SLC35E2                       7.2                       8.0   \n",
              "A1BG                          6.4                       5.8   \n",
              "A1CF                          3.0                       5.1   \n",
              "A2BP1                         NaN                       NaN   \n",
              "A2LD1                         7.3                       7.5   \n",
              "\n",
              "cid      aab9-Primary solid Tumor  aaba-Primary solid Tumor  \\\n",
              "rid                                                           \n",
              "SLC35E2                      7.65                       8.1   \n",
              "A1BG                         6.70                       6.6   \n",
              "A1CF                         4.40                       4.2   \n",
              "A2BP1                        0.10                       NaN   \n",
              "A2LD1                        7.40                       6.6   \n",
              "\n",
              "cid      aabe-Primary solid Tumor  aabf-Primary solid Tumor  \\\n",
              "rid                                                           \n",
              "SLC35E2                       8.2                       8.2   \n",
              "A1BG                          6.3                       6.5   \n",
              "A1CF                          1.6                       6.8   \n",
              "A2BP1                         NaN                       1.7   \n",
              "A2LD1                         7.1                       6.8   \n",
              "\n",
              "cid      aabh-Primary solid Tumor  aabi-Primary solid Tumor  \\\n",
              "rid                                                           \n",
              "SLC35E2                      7.55                      8.45   \n",
              "A1BG                         5.70                      6.30   \n",
              "A1CF                         6.00                       NaN   \n",
              "A2BP1                        0.40                     -1.50   \n",
              "A2LD1                        8.00                      5.80   \n",
              "\n",
              "cid                ...             aauh-Primary solid Tumor  \\\n",
              "rid                ...                                        \n",
              "SLC35E2            ...                                 8.45   \n",
              "A1BG               ...                                 7.10   \n",
              "A1CF               ...                                 5.40   \n",
              "A2BP1              ...                                 3.50   \n",
              "A2LD1              ...                                 6.50   \n",
              "\n",
              "cid      aaui-Primary solid Tumor  aaul-Primary solid Tumor  \\\n",
              "rid                                                           \n",
              "SLC35E2                      7.95                       8.3   \n",
              "A1BG                         7.10                       6.7   \n",
              "A1CF                         6.40                       6.5   \n",
              "A2BP1                        1.30                      -0.3   \n",
              "A2LD1                        7.30                       6.1   \n",
              "\n",
              "cid      a8t3-Primary solid Tumor  a8t5-Primary solid Tumor  \\\n",
              "rid                                                           \n",
              "SLC35E2                      8.05                       8.2   \n",
              "A1BG                         7.00                       6.9   \n",
              "A1CF                         4.40                       3.3   \n",
              "A2BP1                         NaN                       2.1   \n",
              "A2LD1                        6.70                       6.5   \n",
              "\n",
              "cid      a89d-Solid Tissue Normal  a89d-Primary solid Tumor  \\\n",
              "rid                                                           \n",
              "SLC35E2                      7.25                       7.4   \n",
              "A1BG                         7.10                       7.3   \n",
              "A1CF                         3.60                       6.2   \n",
              "A2BP1                        2.00                       0.0   \n",
              "A2LD1                        6.70                       6.7   \n",
              "\n",
              "cid      a8sy-Primary solid Tumor  a8lh-Primary solid Tumor  \\\n",
              "rid                                                           \n",
              "SLC35E2                      7.35                       7.2   \n",
              "A1BG                         7.90                       6.0   \n",
              "A1CF                         1.20                       4.9   \n",
              "A2BP1                         NaN                       2.0   \n",
              "A2LD1                        6.50                       6.9   \n",
              "\n",
              "cid      aapl-Primary solid Tumor  \n",
              "rid                                \n",
              "SLC35E2                      9.05  \n",
              "A1BG                         6.90  \n",
              "A1CF                         2.00  \n",
              "A2BP1                         NaN  \n",
              "A2LD1                        6.70  \n",
              "\n",
              "[5 rows x 183 columns]"
            ]
          },
          "metadata": {
            "tags": []
          },
          "execution_count": 50
        }
      ]
    },
    {
      "cell_type": "code",
      "metadata": {
        "id": "vrDFwv3dYF8w",
        "colab_type": "code",
        "colab": {}
      },
      "source": [
        "filled_data = data.fillna(data.mean()) #filling the NAN values using mean"
      ],
      "execution_count": 0,
      "outputs": []
    },
    {
      "cell_type": "code",
      "metadata": {
        "id": "22C7axn7YF82",
        "colab_type": "code",
        "outputId": "24ba8448-5961-4355-ae3f-742b2f2b4842",
        "colab": {}
      },
      "source": [
        "print(\"Data Frame after filling NAN :\")\n",
        "filled_data.head()"
      ],
      "execution_count": 0,
      "outputs": [
        {
          "output_type": "stream",
          "text": [
            "Data Frame after filling NAN :\n"
          ],
          "name": "stdout"
        },
        {
          "output_type": "execute_result",
          "data": {
            "text/html": [
              "<div>\n",
              "<style scoped>\n",
              "    .dataframe tbody tr th:only-of-type {\n",
              "        vertical-align: middle;\n",
              "    }\n",
              "\n",
              "    .dataframe tbody tr th {\n",
              "        vertical-align: top;\n",
              "    }\n",
              "\n",
              "    .dataframe thead th {\n",
              "        text-align: right;\n",
              "    }\n",
              "</style>\n",
              "<table border=\"1\" class=\"dataframe\">\n",
              "  <thead>\n",
              "    <tr style=\"text-align: right;\">\n",
              "      <th>cid</th>\n",
              "      <th>aab1-Primary solid Tumor</th>\n",
              "      <th>aab4-Primary solid Tumor</th>\n",
              "      <th>aab6-Primary solid Tumor</th>\n",
              "      <th>aab8-Primary solid Tumor</th>\n",
              "      <th>aab9-Primary solid Tumor</th>\n",
              "      <th>aaba-Primary solid Tumor</th>\n",
              "      <th>aabe-Primary solid Tumor</th>\n",
              "      <th>aabf-Primary solid Tumor</th>\n",
              "      <th>aabh-Primary solid Tumor</th>\n",
              "      <th>aabi-Primary solid Tumor</th>\n",
              "      <th>...</th>\n",
              "      <th>aauh-Primary solid Tumor</th>\n",
              "      <th>aaui-Primary solid Tumor</th>\n",
              "      <th>aaul-Primary solid Tumor</th>\n",
              "      <th>a8t3-Primary solid Tumor</th>\n",
              "      <th>a8t5-Primary solid Tumor</th>\n",
              "      <th>a89d-Solid Tissue Normal</th>\n",
              "      <th>a89d-Primary solid Tumor</th>\n",
              "      <th>a8sy-Primary solid Tumor</th>\n",
              "      <th>a8lh-Primary solid Tumor</th>\n",
              "      <th>aapl-Primary solid Tumor</th>\n",
              "    </tr>\n",
              "    <tr>\n",
              "      <th>rid</th>\n",
              "      <th></th>\n",
              "      <th></th>\n",
              "      <th></th>\n",
              "      <th></th>\n",
              "      <th></th>\n",
              "      <th></th>\n",
              "      <th></th>\n",
              "      <th></th>\n",
              "      <th></th>\n",
              "      <th></th>\n",
              "      <th></th>\n",
              "      <th></th>\n",
              "      <th></th>\n",
              "      <th></th>\n",
              "      <th></th>\n",
              "      <th></th>\n",
              "      <th></th>\n",
              "      <th></th>\n",
              "      <th></th>\n",
              "      <th></th>\n",
              "      <th></th>\n",
              "    </tr>\n",
              "  </thead>\n",
              "  <tbody>\n",
              "    <tr>\n",
              "      <th>SLC35E2</th>\n",
              "      <td>7.45</td>\n",
              "      <td>8.1</td>\n",
              "      <td>7.200000</td>\n",
              "      <td>8.000000</td>\n",
              "      <td>7.65</td>\n",
              "      <td>8.100000</td>\n",
              "      <td>8.200000</td>\n",
              "      <td>8.2</td>\n",
              "      <td>7.55</td>\n",
              "      <td>8.450000</td>\n",
              "      <td>...</td>\n",
              "      <td>8.45</td>\n",
              "      <td>7.95</td>\n",
              "      <td>8.3</td>\n",
              "      <td>8.050000</td>\n",
              "      <td>8.2</td>\n",
              "      <td>7.25</td>\n",
              "      <td>7.4</td>\n",
              "      <td>7.35000</td>\n",
              "      <td>7.2</td>\n",
              "      <td>9.050000</td>\n",
              "    </tr>\n",
              "    <tr>\n",
              "      <th>A1BG</th>\n",
              "      <td>6.40</td>\n",
              "      <td>5.8</td>\n",
              "      <td>6.400000</td>\n",
              "      <td>5.800000</td>\n",
              "      <td>6.70</td>\n",
              "      <td>6.600000</td>\n",
              "      <td>6.300000</td>\n",
              "      <td>6.5</td>\n",
              "      <td>5.70</td>\n",
              "      <td>6.300000</td>\n",
              "      <td>...</td>\n",
              "      <td>7.10</td>\n",
              "      <td>7.10</td>\n",
              "      <td>6.7</td>\n",
              "      <td>7.000000</td>\n",
              "      <td>6.9</td>\n",
              "      <td>7.10</td>\n",
              "      <td>7.3</td>\n",
              "      <td>7.90000</td>\n",
              "      <td>6.0</td>\n",
              "      <td>6.900000</td>\n",
              "    </tr>\n",
              "    <tr>\n",
              "      <th>A1CF</th>\n",
              "      <td>4.70</td>\n",
              "      <td>5.7</td>\n",
              "      <td>3.000000</td>\n",
              "      <td>5.100000</td>\n",
              "      <td>4.40</td>\n",
              "      <td>4.200000</td>\n",
              "      <td>1.600000</td>\n",
              "      <td>6.8</td>\n",
              "      <td>6.00</td>\n",
              "      <td>7.431312</td>\n",
              "      <td>...</td>\n",
              "      <td>5.40</td>\n",
              "      <td>6.40</td>\n",
              "      <td>6.5</td>\n",
              "      <td>4.400000</td>\n",
              "      <td>3.3</td>\n",
              "      <td>3.60</td>\n",
              "      <td>6.2</td>\n",
              "      <td>1.20000</td>\n",
              "      <td>4.9</td>\n",
              "      <td>2.000000</td>\n",
              "    </tr>\n",
              "    <tr>\n",
              "      <th>A2BP1</th>\n",
              "      <td>-1.00</td>\n",
              "      <td>1.1</td>\n",
              "      <td>7.577106</td>\n",
              "      <td>7.728775</td>\n",
              "      <td>0.10</td>\n",
              "      <td>7.664129</td>\n",
              "      <td>7.628627</td>\n",
              "      <td>1.7</td>\n",
              "      <td>0.40</td>\n",
              "      <td>-1.500000</td>\n",
              "      <td>...</td>\n",
              "      <td>3.50</td>\n",
              "      <td>1.30</td>\n",
              "      <td>-0.3</td>\n",
              "      <td>7.685672</td>\n",
              "      <td>2.1</td>\n",
              "      <td>2.00</td>\n",
              "      <td>0.0</td>\n",
              "      <td>7.54097</td>\n",
              "      <td>2.0</td>\n",
              "      <td>7.660132</td>\n",
              "    </tr>\n",
              "    <tr>\n",
              "      <th>A2LD1</th>\n",
              "      <td>7.50</td>\n",
              "      <td>6.8</td>\n",
              "      <td>7.300000</td>\n",
              "      <td>7.500000</td>\n",
              "      <td>7.40</td>\n",
              "      <td>6.600000</td>\n",
              "      <td>7.100000</td>\n",
              "      <td>6.8</td>\n",
              "      <td>8.00</td>\n",
              "      <td>5.800000</td>\n",
              "      <td>...</td>\n",
              "      <td>6.50</td>\n",
              "      <td>7.30</td>\n",
              "      <td>6.1</td>\n",
              "      <td>6.700000</td>\n",
              "      <td>6.5</td>\n",
              "      <td>6.70</td>\n",
              "      <td>6.7</td>\n",
              "      <td>6.50000</td>\n",
              "      <td>6.9</td>\n",
              "      <td>6.700000</td>\n",
              "    </tr>\n",
              "  </tbody>\n",
              "</table>\n",
              "<p>5 rows × 183 columns</p>\n",
              "</div>"
            ],
            "text/plain": [
              "cid      aab1-Primary solid Tumor  aab4-Primary solid Tumor  \\\n",
              "rid                                                           \n",
              "SLC35E2                      7.45                       8.1   \n",
              "A1BG                         6.40                       5.8   \n",
              "A1CF                         4.70                       5.7   \n",
              "A2BP1                       -1.00                       1.1   \n",
              "A2LD1                        7.50                       6.8   \n",
              "\n",
              "cid      aab6-Primary solid Tumor  aab8-Primary solid Tumor  \\\n",
              "rid                                                           \n",
              "SLC35E2                  7.200000                  8.000000   \n",
              "A1BG                     6.400000                  5.800000   \n",
              "A1CF                     3.000000                  5.100000   \n",
              "A2BP1                    7.577106                  7.728775   \n",
              "A2LD1                    7.300000                  7.500000   \n",
              "\n",
              "cid      aab9-Primary solid Tumor  aaba-Primary solid Tumor  \\\n",
              "rid                                                           \n",
              "SLC35E2                      7.65                  8.100000   \n",
              "A1BG                         6.70                  6.600000   \n",
              "A1CF                         4.40                  4.200000   \n",
              "A2BP1                        0.10                  7.664129   \n",
              "A2LD1                        7.40                  6.600000   \n",
              "\n",
              "cid      aabe-Primary solid Tumor  aabf-Primary solid Tumor  \\\n",
              "rid                                                           \n",
              "SLC35E2                  8.200000                       8.2   \n",
              "A1BG                     6.300000                       6.5   \n",
              "A1CF                     1.600000                       6.8   \n",
              "A2BP1                    7.628627                       1.7   \n",
              "A2LD1                    7.100000                       6.8   \n",
              "\n",
              "cid      aabh-Primary solid Tumor  aabi-Primary solid Tumor  \\\n",
              "rid                                                           \n",
              "SLC35E2                      7.55                  8.450000   \n",
              "A1BG                         5.70                  6.300000   \n",
              "A1CF                         6.00                  7.431312   \n",
              "A2BP1                        0.40                 -1.500000   \n",
              "A2LD1                        8.00                  5.800000   \n",
              "\n",
              "cid                ...             aauh-Primary solid Tumor  \\\n",
              "rid                ...                                        \n",
              "SLC35E2            ...                                 8.45   \n",
              "A1BG               ...                                 7.10   \n",
              "A1CF               ...                                 5.40   \n",
              "A2BP1              ...                                 3.50   \n",
              "A2LD1              ...                                 6.50   \n",
              "\n",
              "cid      aaui-Primary solid Tumor  aaul-Primary solid Tumor  \\\n",
              "rid                                                           \n",
              "SLC35E2                      7.95                       8.3   \n",
              "A1BG                         7.10                       6.7   \n",
              "A1CF                         6.40                       6.5   \n",
              "A2BP1                        1.30                      -0.3   \n",
              "A2LD1                        7.30                       6.1   \n",
              "\n",
              "cid      a8t3-Primary solid Tumor  a8t5-Primary solid Tumor  \\\n",
              "rid                                                           \n",
              "SLC35E2                  8.050000                       8.2   \n",
              "A1BG                     7.000000                       6.9   \n",
              "A1CF                     4.400000                       3.3   \n",
              "A2BP1                    7.685672                       2.1   \n",
              "A2LD1                    6.700000                       6.5   \n",
              "\n",
              "cid      a89d-Solid Tissue Normal  a89d-Primary solid Tumor  \\\n",
              "rid                                                           \n",
              "SLC35E2                      7.25                       7.4   \n",
              "A1BG                         7.10                       7.3   \n",
              "A1CF                         3.60                       6.2   \n",
              "A2BP1                        2.00                       0.0   \n",
              "A2LD1                        6.70                       6.7   \n",
              "\n",
              "cid      a8sy-Primary solid Tumor  a8lh-Primary solid Tumor  \\\n",
              "rid                                                           \n",
              "SLC35E2                   7.35000                       7.2   \n",
              "A1BG                      7.90000                       6.0   \n",
              "A1CF                      1.20000                       4.9   \n",
              "A2BP1                     7.54097                       2.0   \n",
              "A2LD1                     6.50000                       6.9   \n",
              "\n",
              "cid      aapl-Primary solid Tumor  \n",
              "rid                                \n",
              "SLC35E2                  9.050000  \n",
              "A1BG                     6.900000  \n",
              "A1CF                     2.000000  \n",
              "A2BP1                    7.660132  \n",
              "A2LD1                    6.700000  \n",
              "\n",
              "[5 rows x 183 columns]"
            ]
          },
          "metadata": {
            "tags": []
          },
          "execution_count": 52
        }
      ]
    },
    {
      "cell_type": "markdown",
      "metadata": {
        "id": "-cW4JdDuYF85",
        "colab_type": "text"
      },
      "source": [
        "### **Removing all genes with NAN**"
      ]
    },
    {
      "cell_type": "code",
      "metadata": {
        "id": "BbWSKZ6IYF86",
        "colab_type": "code",
        "outputId": "11a18118-70fc-4f39-ffcc-abc1dc68daa3",
        "colab": {}
      },
      "source": [
        "print(\"Data Frame size after dropping all the GENEs with NAN :\")\n",
        "data = data.dropna()\n",
        "print(data.shape)"
      ],
      "execution_count": 0,
      "outputs": [
        {
          "output_type": "stream",
          "text": [
            "Data Frame size after dropping all the GENEs with NAN :\n",
            "(14098, 183)\n"
          ],
          "name": "stdout"
        }
      ]
    },
    {
      "cell_type": "markdown",
      "metadata": {
        "id": "QNBLLfjeYF89",
        "colab_type": "text"
      },
      "source": [
        "### **GENE expression using HEAT MAP**"
      ]
    },
    {
      "cell_type": "code",
      "metadata": {
        "id": "hOK0pQwJYF8-",
        "colab_type": "code",
        "outputId": "27d2f995-92b8-4373-fee0-fbc300f7fa91",
        "colab": {}
      },
      "source": [
        "import numpy as np; np.random.seed(0)\n",
        "import seaborn as sns; sns.set()\n",
        "import matplotlib.pyplot as plt\n",
        "plt.figure(figsize= (20,20))\n",
        "uniform_data = data.iloc[:30]#\n",
        "#dp = uniform_data[:,:20]\n",
        "dp = uniform_data.values\n",
        "dp = dp[:,:20]\n",
        "sns.heatmap(dp)"
      ],
      "execution_count": 0,
      "outputs": [
        {
          "output_type": "execute_result",
          "data": {
            "text/plain": [
              "<matplotlib.axes._subplots.AxesSubplot at 0x15df2f84eb8>"
            ]
          },
          "metadata": {
            "tags": []
          },
          "execution_count": 66
        },
        {
          "output_type": "display_data",
          "data": {
            "image/png": "[encoded data removed]",
            "text/plain": [
              "<Figure size 1440x1440 with 2 Axes>"
            ]
          },
          "metadata": {
            "tags": []
          }
        }
      ]
    },
    {
      "cell_type": "markdown",
      "metadata": {
        "id": "-5Y2GtF_YF9C",
        "colab_type": "text"
      },
      "source": [
        "### GENE Expression using Normalization"
      ]
    },
    {
      "cell_type": "code",
      "metadata": {
        "id": "GhQ8uh5QYF9D",
        "colab_type": "code",
        "outputId": "5cc9e76c-fe25-4f8f-e479-1b3c7d29b9e2",
        "colab": {}
      },
      "source": [
        "from sklearn.preprocessing import StandardScaler\n",
        "import matplotlib.pyplot as plt\n",
        "plt.figure(figsize= (20,20))\n",
        "scaler = StandardScaler()\n",
        "scaler.fit(dp)\n",
        "x = scaler.transform(dp)\n",
        "sns.heatmap(x)"
      ],
      "execution_count": 0,
      "outputs": [
        {
          "output_type": "execute_result",
          "data": {
            "text/plain": [
              "<matplotlib.axes._subplots.AxesSubplot at 0x15df4d0bda0>"
            ]
          },
          "metadata": {
            "tags": []
          },
          "execution_count": 69
        },
        {
          "output_type": "display_data",
          "data": {
            "image/png": "[encoded data removed]",
            "text/plain": [
              "<Figure size 1440x1440 with 2 Axes>"
            ]
          },
          "metadata": {
            "tags": []
          }
        }
      ]
    },
    {
      "cell_type": "code",
      "metadata": {
        "id": "INDyeO2NYF9G",
        "colab_type": "code",
        "outputId": "8945b38a-9383-48f5-965d-485cbdd81289",
        "colab": {}
      },
      "source": [
        "count = 0\n",
        "for d in data.values:\n",
        "    counts, bin_edges = np.histogram(d, bins=10, density = True)\n",
        "    pdf = counts/(sum(counts))\n",
        "    cdf = np.cumsum(pdf)\n",
        "    plt.plot(bin_edges[1:],pdf);\n",
        "    if count==10000:\n",
        "        break\n",
        "    count = count+1\n",
        "plt.show()"
      ],
      "execution_count": 0,
      "outputs": [
        {
          "output_type": "display_data",
          "data": {
            "image/png": "[encoded data removed]",
            "text/plain": [
              "<Figure size 432x288 with 1 Axes>"
            ]
          },
          "metadata": {
            "tags": []
          }
        }
      ]
    },
    {
      "cell_type": "markdown",
      "metadata": {
        "id": "FqJZra1FY8Ad",
        "colab_type": "text"
      },
      "source": [
        "Here it seems like the Gene expression data is Normal distributed. But later we are seing different results but analysing more of data."
      ]
    },
    {
      "cell_type": "code",
      "metadata": {
        "id": "q1FQvi_ZYF9J",
        "colab_type": "code",
        "colab": {}
      },
      "source": [
        "val = []\n",
        "for d in data.values:\n",
        "    for v in d:\n",
        "        val.append(v)"
      ],
      "execution_count": 0,
      "outputs": []
    },
    {
      "cell_type": "code",
      "metadata": {
        "id": "0G27XlNzYF9M",
        "colab_type": "code",
        "outputId": "a8fc07cb-a11c-4268-b13b-9918b631c909",
        "colab": {}
      },
      "source": [
        "#for d in data.values:\n",
        "counts, bin_edges = np.histogram(val, bins=10, density = True)\n",
        "pdf = counts/(sum(counts))\n",
        "cdf = np.cumsum(pdf)\n",
        "plt.plot(bin_edges[1:],pdf);\n",
        " #   if count==10000:\n",
        " #       break\n",
        " #   count = count+1\n",
        "plt.show()"
      ],
      "execution_count": 0,
      "outputs": [
        {
          "output_type": "display_data",
          "data": {
            "image/png": "[encoded data removed]",
            "text/plain": [
              "<Figure size 432x288 with 1 Axes>"
            ]
          },
          "metadata": {
            "tags": []
          }
        }
      ]
    },
    {
      "cell_type": "code",
      "metadata": {
        "id": "A7TDUBYgYF9O",
        "colab_type": "code",
        "outputId": "3fb44bf3-44c0-4808-b7ac-911827b16443",
        "colab": {}
      },
      "source": [
        "import numpy as np \n",
        "import statsmodels.api as sm \n",
        "import pylab as py \n",
        "data_points = np.array(val)#np.random.normal(0, 1, 100)     \n",
        "  \n",
        "sm.qqplot(data_points, line ='45') \n",
        "py.show() "
      ],
      "execution_count": 0,
      "outputs": [
        {
          "output_type": "display_data",
          "data": {
            "image/png": "[encoded data removed]",
            "text/plain": [
              "<Figure size 432x288 with 1 Axes>"
            ]
          },
          "metadata": {
            "tags": []
          }
        }
      ]
    },
    {
      "cell_type": "markdown",
      "metadata": {
        "id": "-mcmwLd4iOl0",
        "colab_type": "text"
      },
      "source": [
        "**From the plots above we can say that the Gene Data is more likely to be havingnormal distribution, but after doing the normality test It had been found that the distribuion doesn't belong from normal distribution. There are other kinda distribution's also we have to check further to find out the exact distribution of the data.**"
      ]
    },
    {
      "cell_type": "markdown",
      "metadata": {
        "id": "rKt3Goi8YF9S",
        "colab_type": "text"
      },
      "source": [
        "### Visualization using PCA"
      ]
    },
    {
      "cell_type": "code",
      "metadata": {
        "id": "IZa0fxsxYF9T",
        "colab_type": "code",
        "colab": {}
      },
      "source": [
        "%matplotlib inline\n",
        "import numpy as np\n",
        "import matplotlib.pyplot as plt\n",
        "import seaborn as sns; \n",
        "sns.set()"
      ],
      "execution_count": 0,
      "outputs": []
    },
    {
      "cell_type": "code",
      "metadata": {
        "id": "CKBjxQqbYF9V",
        "colab_type": "code",
        "colab": {}
      },
      "source": [
        "X = dp"
      ],
      "execution_count": 0,
      "outputs": []
    },
    {
      "cell_type": "code",
      "metadata": {
        "id": "bnrsoJLVYF9Y",
        "colab_type": "code",
        "outputId": "d5d5dce2-ad5f-409d-9388-faf354b43838",
        "colab": {}
      },
      "source": [
        "from sklearn.decomposition import PCA\n",
        "for i in range(1):\n",
        "    pca = PCA(n_components=20)\n",
        "    pca.fit(X)\n",
        "    print(\"Component-----> \",i,\"Expained Variance ---->\",pca.explained_variance_)"
      ],
      "execution_count": 0,
      "outputs": [
        {
          "output_type": "stream",
          "text": [
            "Component----->  0 Expained Variance ----> [7.1989334e+01 2.9873154e+00 1.9084563e+00 1.1501921e+00 6.8990034e-01\n",
            " 5.4173398e-01 4.1301653e-01 3.2722610e-01 2.9957274e-01 2.1888758e-01\n",
            " 1.8466550e-01 1.4954974e-01 9.7413719e-02 8.2729973e-02 6.6901296e-02\n",
            " 6.0635816e-02 3.8474724e-02 2.4689449e-02 2.1554543e-02 7.9939598e-03]\n"
          ],
          "name": "stdout"
        }
      ]
    },
    {
      "cell_type": "code",
      "metadata": {
        "id": "O6PJWsB9YF9a",
        "colab_type": "code",
        "outputId": "79ef0542-1e57-448d-c6ef-b41d49fb0aa0",
        "colab": {}
      },
      "source": [
        "print(pca.components_.shape)"
      ],
      "execution_count": 0,
      "outputs": [
        {
          "output_type": "stream",
          "text": [
            "(20, 20)\n"
          ],
          "name": "stdout"
        }
      ]
    },
    {
      "cell_type": "code",
      "metadata": {
        "id": "jjPvdfhgYF9e",
        "colab_type": "code",
        "outputId": "459c4263-117f-4486-db97-c376983317df",
        "colab": {}
      },
      "source": [
        "print(pca.components_.shape)"
      ],
      "execution_count": 0,
      "outputs": [
        {
          "output_type": "stream",
          "text": [
            "(20, 20)\n"
          ],
          "name": "stdout"
        }
      ]
    },
    {
      "cell_type": "code",
      "metadata": {
        "id": "5GMqSjIYYF9i",
        "colab_type": "code",
        "outputId": "c6522a30-d775-43eb-fafe-7442083175c7",
        "colab": {}
      },
      "source": [
        "print(pca.explained_variance_)"
      ],
      "execution_count": 0,
      "outputs": [
        {
          "output_type": "stream",
          "text": [
            "[7.1989334e+01 2.9873154e+00 1.9084563e+00 1.1501921e+00 6.8990034e-01\n",
            " 5.4173398e-01 4.1301653e-01 3.2722610e-01 2.9957274e-01 2.1888758e-01\n",
            " 1.8466550e-01 1.4954974e-01 9.7413719e-02 8.2729973e-02 6.6901296e-02\n",
            " 6.0635816e-02 3.8474724e-02 2.4689449e-02 2.1554543e-02 7.9939598e-03]\n"
          ],
          "name": "stdout"
        }
      ]
    },
    {
      "cell_type": "code",
      "metadata": {
        "id": "76yG10d9YF9l",
        "colab_type": "code",
        "outputId": "6aab9eac-8b35-4996-c67e-dbe7412cbd6e",
        "colab": {}
      },
      "source": [
        "from matplotlib.ticker import FuncFormatter\n",
        "import matplotlib.pyplot as plt\n",
        "import numpy as np\n",
        "\n",
        "x = np.arange(20)\n",
        "money = pca.explained_variance_#[1.5e5, 2.5e6, 5.5e6, 2.0e7]\n",
        "\n",
        "\n",
        "def millions(x, pos):\n",
        "    'The two args are the value and tick position'\n",
        "    return '$%1.1fM' % (x * 1e-6)\n",
        "\n",
        "\n",
        "formatter = FuncFormatter(millions)\n",
        "\n",
        "fig, ax = plt.subplots()\n",
        "ax.yaxis.set_major_formatter(formatter)\n",
        "plt.bar(x, money)\n",
        "#plt.xticks(x, ('Bill', 'Fred', 'Mary', 'Sue'))\n",
        "plt.show()"
      ],
      "execution_count": 0,
      "outputs": [
        {
          "output_type": "display_data",
          "data": {
            "image/png": "[encoded data removed]",
            "text/plain": [
              "<Figure size 432x288 with 1 Axes>"
            ]
          },
          "metadata": {
            "tags": []
          }
        }
      ]
    },
    {
      "cell_type": "markdown",
      "metadata": {
        "id": "FBCf1PYThC1B",
        "colab_type": "text"
      },
      "source": [
        "**From the pca analysis, it is clear that the first principal componenet is explaining the maximum variance of data. And the rest of principal components have very less variance. so , the other principal components can be considerd as less significant feature. so Gene data is not necessarily normal distributed  we can se it clearly from pca analysis.**"
      ]
    },
    {
      "cell_type": "code",
      "metadata": {
        "id": "1rO-c-QHYF9o",
        "colab_type": "code",
        "outputId": "1f7e7162-7ce6-4ecc-b590-026d179ce3ce",
        "colab": {}
      },
      "source": [
        "pca.components_"
      ],
      "execution_count": 0,
      "outputs": [
        {
          "output_type": "execute_result",
          "data": {
            "text/plain": [
              "array([[ 2.35517666e-01,  2.36271456e-01,  2.28402495e-01,\n",
              "         2.12481275e-01,  2.08609268e-01,  1.59928769e-01,\n",
              "         2.30435774e-01,  1.95066676e-01,  2.38538831e-01,\n",
              "         2.28427783e-01,  2.03321382e-01,  2.26095214e-01,\n",
              "         2.65748650e-01,  1.95356593e-01,  2.10649967e-01,\n",
              "         2.38902077e-01,  2.28454277e-01,  2.41738781e-01,\n",
              "         2.22628236e-01,  2.43269190e-01],\n",
              "       [-3.92852444e-03, -6.00568727e-02, -3.92398573e-02,\n",
              "        -3.46717462e-02,  9.93241742e-03,  3.29292715e-01,\n",
              "        -1.02094486e-01,  9.95351374e-02, -1.52813882e-01,\n",
              "         4.05763745e-01, -2.68650800e-01, -3.92223708e-02,\n",
              "         2.00742498e-01,  1.48712754e-01,  1.07801005e-01,\n",
              "         3.61023724e-01, -4.87190545e-01, -3.05230290e-01,\n",
              "         1.51012257e-01, -2.12995768e-01],\n",
              "       [ 9.59205478e-02,  7.51123950e-02, -5.39476089e-02,\n",
              "         3.57061252e-02,  9.98314992e-02,  2.60387570e-01,\n",
              "        -2.55187660e-01,  2.20014095e-01, -4.77883220e-02,\n",
              "        -5.58640242e-01,  3.64610553e-02,  2.58004665e-01,\n",
              "        -3.41004655e-02,  2.82304227e-01,  3.38786691e-01,\n",
              "        -2.18741164e-01,  1.24477120e-02, -4.00050521e-01,\n",
              "         4.96217795e-02,  3.57519574e-02],\n",
              "       [ 1.09213501e-01,  5.65273408e-03, -2.31567234e-01,\n",
              "        -1.57593325e-01, -2.06472049e-03, -2.19950210e-02,\n",
              "        -1.19983956e-01,  1.85126469e-01,  1.59845725e-01,\n",
              "         3.80682081e-01,  3.06329042e-01, -1.94275137e-02,\n",
              "        -6.84658289e-01, -2.60759816e-02,  6.80156350e-02,\n",
              "        -3.71776037e-02,  2.39307676e-02, -1.64319783e-01,\n",
              "         2.88996994e-01,  9.59315598e-02],\n",
              "       [ 5.85416973e-01,  1.55433491e-01, -1.95176184e-01,\n",
              "        -2.23000899e-01,  2.92314917e-01, -1.50973409e-01,\n",
              "         2.31369942e-01, -1.20317407e-01,  1.58475369e-01,\n",
              "        -4.86721359e-02, -1.13862447e-01, -2.01359496e-01,\n",
              "        -6.12606145e-02,  3.82139049e-02,  1.77719772e-01,\n",
              "         1.11188628e-01, -1.35697201e-01, -9.58385989e-02,\n",
              "        -4.58977908e-01, -2.53284741e-02],\n",
              "       [ 8.52398872e-02, -2.03135446e-01, -1.10926703e-02,\n",
              "         3.50339383e-01, -2.20186368e-01,  3.72217059e-01,\n",
              "         2.14309543e-01,  5.33372909e-02,  2.80929416e-01,\n",
              "        -1.15985580e-01, -2.03083962e-01,  1.93797827e-01,\n",
              "        -3.16925973e-01, -2.58234054e-01,  1.61090374e-01,\n",
              "        -7.78865293e-02, -3.11496168e-01,  3.21215421e-01,\n",
              "        -1.25763029e-01, -8.04068670e-02],\n",
              "       [-2.31230408e-01, -1.32108927e-01, -3.58504266e-01,\n",
              "         6.31618500e-02, -2.64064725e-02,  3.47999752e-01,\n",
              "        -5.79645038e-02, -2.19928976e-02, -1.96654037e-01,\n",
              "         1.83788538e-01,  4.19515312e-01,  3.32342237e-02,\n",
              "         9.01787058e-02, -1.69083234e-02,  1.47266880e-01,\n",
              "         1.33595899e-01,  1.86895892e-01,  2.28316002e-02,\n",
              "        -5.69275439e-01,  1.17864624e-01],\n",
              "       [ 2.78814316e-01, -8.81647095e-02,  2.10318640e-01,\n",
              "        -6.37370199e-02,  1.33317197e-02,  2.13155895e-01,\n",
              "        -1.84202388e-01, -3.15267920e-01, -3.72464299e-01,\n",
              "        -1.94122195e-01, -4.78350669e-02,  1.26471028e-01,\n",
              "        -3.54533762e-01,  7.51749426e-02, -1.65820628e-01,\n",
              "         5.01097798e-01,  2.19076261e-01,  1.74850091e-01,\n",
              "         5.50710484e-02, -3.19117755e-02],\n",
              "       [ 4.20912206e-01, -3.11043054e-01, -2.92917281e-01,\n",
              "         4.29630168e-02,  6.51375949e-02, -6.08321875e-02,\n",
              "        -3.84960085e-01, -9.92718637e-02,  1.38524622e-01,\n",
              "         1.72209248e-01, -5.06919734e-02,  4.26459372e-01,\n",
              "         3.08502942e-01, -2.11601764e-01, -2.24408433e-01,\n",
              "        -1.66636541e-01,  1.09883003e-01, -1.50053320e-03,\n",
              "         6.90902621e-02, -6.50935993e-02],\n",
              "       [-2.41026804e-01,  5.47209568e-02, -2.71122679e-02,\n",
              "         7.71291554e-02,  1.23915829e-01, -4.83930498e-01,\n",
              "        -1.60841957e-01,  2.00176343e-01, -1.79206021e-02,\n",
              "         5.50847268e-03, -1.32612348e-01,  4.87275124e-01,\n",
              "        -1.60741210e-01,  1.60003290e-01, -4.94495146e-02,\n",
              "         2.72341132e-01, -2.98240453e-01,  1.04640484e-01,\n",
              "        -2.63943940e-01,  2.52490222e-01],\n",
              "       [ 7.62917399e-02,  8.30402523e-02, -5.41442744e-02,\n",
              "        -1.17002904e-01, -5.78316092e-01, -1.40035734e-01,\n",
              "        -1.08017378e-01, -3.11726511e-01,  2.50086673e-02,\n",
              "        -5.87461516e-03, -1.01550572e-01,  6.21360540e-03,\n",
              "         1.30959481e-01, -1.65200964e-01,  4.37155783e-01,\n",
              "         1.40941009e-01, -1.52738271e-02, -8.65679532e-02,\n",
              "         1.10844992e-01,  4.70452607e-01],\n",
              "       [ 1.80947527e-01,  4.28354979e-01, -2.93343931e-01,\n",
              "        -1.35261133e-01, -1.84771881e-01,  2.00223237e-01,\n",
              "         1.61076367e-01,  1.11689188e-01, -2.78017044e-01,\n",
              "        -1.27707705e-01,  1.77491426e-01,  8.80862474e-02,\n",
              "         9.02455002e-02, -2.23723017e-02, -4.46638554e-01,\n",
              "        -1.14930257e-01, -3.47043753e-01,  1.63378149e-01,\n",
              "         1.10642321e-01,  2.30641261e-01],\n",
              "       [-5.17976321e-02,  2.58683264e-01,  1.26261637e-01,\n",
              "        -2.48126164e-01, -2.68535167e-01,  2.51269042e-01,\n",
              "        -3.99325192e-01,  1.52244464e-01,  5.11312306e-01,\n",
              "         3.47063206e-02, -1.93050995e-01, -1.15025997e-01,\n",
              "        -1.44257603e-04,  2.03380957e-01, -2.72305578e-01,\n",
              "         5.72438240e-02,  1.50321379e-01,  8.27570185e-02,\n",
              "        -2.71269947e-01, -6.09211856e-03],\n",
              "       [ 8.42426065e-03, -2.72284120e-01, -3.30765963e-01,\n",
              "        -1.38246194e-01, -2.68385053e-01, -1.86484858e-01,\n",
              "         1.77505240e-01,  3.40124637e-01,  1.87274963e-01,\n",
              "        -3.42452347e-01,  1.81397930e-01, -5.88495545e-02,\n",
              "         1.36964858e-01,  5.76225817e-02, -1.92484129e-02,\n",
              "         4.61533874e-01,  8.09366480e-02,  6.14852197e-02,\n",
              "         1.68628946e-01, -2.83421129e-01],\n",
              "       [ 1.04139924e-01,  2.15831429e-01, -6.00067840e-04,\n",
              "         6.87502861e-01, -1.72784567e-01, -1.13033578e-01,\n",
              "        -7.52337836e-03, -1.26919448e-01,  1.30376175e-01,\n",
              "        -3.23759802e-02,  1.51709110e-01, -1.08967036e-01,\n",
              "        -4.93238345e-02, -3.28177847e-02, -2.92431295e-01,\n",
              "         1.99459165e-01,  1.81572381e-02, -4.70191061e-01,\n",
              "        -7.85367936e-02, -4.23301868e-02],\n",
              "       [-1.14338078e-01,  3.97770286e-01, -9.07917991e-02,\n",
              "        -1.28161609e-01, -2.16358140e-01, -6.03804626e-02,\n",
              "         2.17615321e-01, -2.81705618e-01, -4.80120489e-03,\n",
              "         1.44591376e-01,  6.75958022e-03,  4.73872572e-01,\n",
              "        -5.83100282e-02,  1.14684574e-01,  1.36399060e-01,\n",
              "        -7.46717602e-02,  1.49500310e-01, -4.03809175e-02,\n",
              "        -2.38893926e-02, -5.62183559e-01],\n",
              "       [ 2.16987193e-01, -2.75252134e-01,  4.92614418e-01,\n",
              "        -1.29303947e-01, -2.65763044e-01, -1.06617801e-01,\n",
              "        -2.39049233e-02, -6.02961667e-02,  2.34604981e-02,\n",
              "         5.28872125e-02,  5.24669886e-01,  7.43702501e-02,\n",
              "         5.90813197e-02,  2.45345324e-01, -1.97820719e-02,\n",
              "        -1.45407766e-01, -3.50795895e-01, -2.20816582e-02,\n",
              "        -1.70453236e-01, -9.78949443e-02],\n",
              "       [ 5.31902537e-02, -3.19025129e-01,  4.88060899e-02,\n",
              "        -1.11169912e-01, -2.00436309e-01,  7.39015713e-02,\n",
              "         4.92482841e-01,  1.33062512e-01, -7.39814937e-02,\n",
              "         1.29900560e-01, -3.05612385e-01,  1.94779754e-01,\n",
              "        -6.80822134e-02,  2.37133473e-01, -2.53484130e-01,\n",
              "        -1.00167342e-01,  2.73147434e-01, -3.48533154e-01,\n",
              "        -1.11399107e-01,  2.78274029e-01],\n",
              "       [ 2.99224108e-01,  8.34923238e-02, -1.03639262e-02,\n",
              "         2.55582362e-01, -3.02997798e-01, -2.01386407e-01,\n",
              "        -1.63391605e-01,  4.31087077e-01, -4.25318658e-01,\n",
              "         1.80537745e-01, -1.78396985e-01, -1.83982119e-01,\n",
              "        -3.19355577e-02,  1.45144343e-01,  1.76270619e-01,\n",
              "        -1.70937136e-01,  1.81357712e-01,  2.33033240e-01,\n",
              "        -1.22597158e-01, -1.71463296e-01],\n",
              "       [ 4.75432947e-02,  1.54103547e-01,  3.52866501e-01,\n",
              "        -2.07545400e-01, -3.90141242e-04,  2.27294154e-02,\n",
              "         1.84723493e-02,  3.88695538e-01, -1.12216361e-01,\n",
              "        -1.29225524e-02,  5.58707975e-02,  1.66285291e-01,\n",
              "         3.30848731e-02, -7.00490177e-01,  1.14276065e-02,\n",
              "         1.37565687e-01,  8.53150859e-02, -2.51300097e-01,\n",
              "        -1.54408112e-01, -7.62801841e-02]], dtype=float32)"
            ]
          },
          "metadata": {
            "tags": []
          },
          "execution_count": 130
        }
      ]
    },
    {
      "cell_type": "code",
      "metadata": {
        "id": "Ag78lI-7YF9r",
        "colab_type": "code",
        "colab": {}
      },
      "source": [
        ""
      ],
      "execution_count": 0,
      "outputs": []
    }
  ]
}